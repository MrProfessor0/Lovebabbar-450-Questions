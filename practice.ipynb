{
 "cells": [
  {
   "cell_type": "code",
   "execution_count": 3,
   "metadata": {},
   "outputs": [
    {
     "name": "stdout",
     "output_type": "stream",
     "text": [
      "0\n",
      "1\n",
      "1\n"
     ]
    }
   ],
   "source": [
    "a = 0\n",
    "print(a)\n",
    "while(True):\n",
    "    a = 1\n",
    "    print(a)\n",
    "    if a == 1:\n",
    "        break\n",
    "    # a += 1\n",
    "print(a)"
   ]
  },
  {
   "cell_type": "code",
   "execution_count": 6,
   "metadata": {},
   "outputs": [
    {
     "name": "stdout",
     "output_type": "stream",
     "text": [
      "60\n"
     ]
    }
   ],
   "source": [
    "# key = 60\n",
    "# arr = [23,45,67,89,62,40]\n",
    " \n",
    "# output : 62\n",
    "# ans = 0\n",
    "# key = 60\n",
    "# arr = [23,45,67,89,62,40]\n",
    "\n",
    "# for i in arr:\n",
    "#     if key < i:\n",
    "#         ans = i\n",
    "#         if \n",
    "\n",
    "# print(ans)"
   ]
  },
  {
   "cell_type": "code",
   "execution_count": 7,
   "metadata": {},
   "outputs": [
    {
     "data": {
      "text/plain": [
       "<function __main__.name.<locals>.hello(txt)>"
      ]
     },
     "execution_count": 7,
     "metadata": {},
     "output_type": "execute_result"
    }
   ],
   "source": [
    "def name(txt):\n",
    "\n",
    "    def hello(txt):\n",
    "        return f\"Hello {txt}\"\n",
    "    \n",
    "    return hello\n",
    "    \n",
    "name(\"abc\")\n",
    "\n"
   ]
  },
  {
   "cell_type": "code",
   "execution_count": 9,
   "metadata": {},
   "outputs": [
    {
     "name": "stdout",
     "output_type": "stream",
     "text": [
      "True\n",
      "False\n",
      "True\n"
     ]
    }
   ],
   "source": [
    "list1=[1,2,3]\n",
    "list2=[1,2,3]\n",
    "list3=list1\n",
    "print(list1 == list2)\n",
    "print(list1 is list2)\n",
    "print(list1 is list3)"
   ]
  },
  {
   "cell_type": "code",
   "execution_count": 1,
   "metadata": {},
   "outputs": [
    {
     "name": "stdout",
     "output_type": "stream",
     "text": [
      "FEDCBA\n"
     ]
    }
   ],
   "source": [
    "s = \"ABCDEF\"\n",
    "\n",
    "print(s[::-1])"
   ]
  }
 ],
 "metadata": {
  "interpreter": {
   "hash": "c3907995af36b0f612d17bb2bff2de8408b5cbad6d2ac95f6b19caeb1818b755"
  },
  "kernelspec": {
   "display_name": "Python 3.10.4 ('python_env')",
   "language": "python",
   "name": "python3"
  },
  "language_info": {
   "codemirror_mode": {
    "name": "ipython",
    "version": 3
   },
   "file_extension": ".py",
   "mimetype": "text/x-python",
   "name": "python",
   "nbconvert_exporter": "python",
   "pygments_lexer": "ipython3",
   "version": "3.10.4"
  },
  "orig_nbformat": 4
 },
 "nbformat": 4,
 "nbformat_minor": 2
}
